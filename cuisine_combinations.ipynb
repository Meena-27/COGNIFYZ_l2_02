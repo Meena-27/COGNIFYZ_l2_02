{
  "nbformat": 4,
  "nbformat_minor": 0,
  "metadata": {
    "colab": {
      "provenance": [],
      "authorship_tag": "ABX9TyNvsNa48LEYV1GJYzEOeRcu",
      "include_colab_link": true
    },
    "kernelspec": {
      "name": "python3",
      "display_name": "Python 3"
    },
    "language_info": {
      "name": "python"
    }
  },
  "cells": [
    {
      "cell_type": "markdown",
      "metadata": {
        "id": "view-in-github",
        "colab_type": "text"
      },
      "source": [
        "<a href=\"https://colab.research.google.com/github/Meena-27/COGNIFYZ_l2_02/blob/main/cuisine_combinations.ipynb\" target=\"_parent\"><img src=\"https://colab.research.google.com/assets/colab-badge.svg\" alt=\"Open In Colab\"/></a>"
      ]
    },
    {
      "cell_type": "code",
      "execution_count": 1,
      "metadata": {
        "colab": {
          "base_uri": "https://localhost:8080/"
        },
        "id": "17DlGBBOa4Ce",
        "outputId": "4f2b8b1f-2cc4-48aa-8050-823229163bf3"
      },
      "outputs": [
        {
          "output_type": "stream",
          "name": "stdout",
          "text": [
            "Most common cuisine combinations:\n",
            "cuisines type\n",
            "northindian,chinese                421\n",
            "northindian                        420\n",
            "southindian                        348\n",
            "fastfood                           140\n",
            "southindian,northindian,chinese    128\n",
            "biryani                            122\n",
            "bakery,desserts                     97\n",
            "desserts                            87\n",
            "cafe                                85\n",
            "bakery                              77\n",
            "Name: count, dtype: int64\n",
            "\n",
            "Average rating for the most common cuisine combinations:\n",
            "cuisines type\n",
            "northindian,chinese                3.341766\n",
            "northindian                        3.417986\n",
            "southindian                        3.491545\n",
            "fastfood                           3.320149\n",
            "southindian,northindian,chinese    3.418898\n",
            "biryani                            3.285246\n",
            "bakery,desserts                    3.600000\n",
            "desserts                           3.542529\n",
            "cafe                               3.581176\n",
            "bakery                             3.385526\n",
            "Name: rate (out of 5), dtype: float64\n"
          ]
        }
      ],
      "source": [
        "import pandas as pd\n",
        "\n",
        "# Load the Zomato dataset\n",
        "zomato_data = pd.read_csv(\"/content/zomato.csv\")\n",
        "\n",
        "# Assuming the dataset has columns 'cuisines type' and 'rate (out of 5)'\n",
        "# containing the cuisine types and the rating respectively\n",
        "\n",
        "# Preprocess the cuisine combinations\n",
        "zomato_data['cuisines type'] = zomato_data['cuisines type'].str.lower().str.replace(' ', '')\n",
        "\n",
        "# Calculate the frequency of each cuisine combination\n",
        "cuisine_combinations_freq = zomato_data['cuisines type'].value_counts()\n",
        "\n",
        "# Determine the most common cuisine combinations\n",
        "most_common_cuisine_combinations = cuisine_combinations_freq.head(10)\n",
        "print(\"Most common cuisine combinations:\")\n",
        "print(most_common_cuisine_combinations)\n",
        "\n",
        "# Calculate the average rating for each cuisine combination\n",
        "average_rating_by_cuisine = zomato_data.groupby('cuisines type')['rate (out of 5)'].mean()\n",
        "\n",
        "# Print the average rating for the most common cuisine combinations\n",
        "print(\"\\nAverage rating for the most common cuisine combinations:\")\n",
        "print(average_rating_by_cuisine.loc[most_common_cuisine_combinations.index])\n",
        "\n",
        "# Analyze if there's a relationship between cuisine combinations and ratings\n",
        "# You can further analyze the relationship using statistical tests or visualizations\n"
      ]
    }
  ]
}